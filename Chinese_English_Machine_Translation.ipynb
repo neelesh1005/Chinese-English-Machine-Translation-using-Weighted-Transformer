{
  "cells": [
    {
      "cell_type": "markdown",
      "metadata": {
        "id": "DAM6H_bBUJdR"
      },
      "source": [
        "**Neccesary** **Libraries**\n"
      ]
    },
    {
      "cell_type": "code",
      "execution_count": null,
      "metadata": {
        "id": "wL4ayXcBp10s"
      },
      "outputs": [],
      "source": [
        "#libraries\n",
        "import numpy as np\n",
        "import tensorflow as tf\n",
        "from tensorflow.keras.layers import Dense, LayerNormalization, Dropout, Multi\n",
        "from tensorflow.data import Dataset\n",
        "import tensorflow.keras.backend as K\n",
        "from tensorflow import keras\n",
        "from tensorflow.keras.optimizers import Adam\n",
        "import matplotlib.pyplot as plt\n",
        "import random\n",
        "import time\n",
        "import re\n",
        "plt.style.use('ggplot')\n",
        "import seaborn as sns\n"
      ]
    },
    {
      "cell_type": "markdown",
      "metadata": {
        "id": "Evb1psu3YFyo"
      },
      "source": [
        "# Preprocessing and Getting Data"
      ]
    },
    {
      "cell_type": "markdown",
      "metadata": {
        "id": "by_pL4pMkut6"
      },
      "source": [
        "- import Tokenizer for tokenizing words"
      ]
    },
    {
      "cell_type": "code",
      "execution_count": null,
      "metadata": {
        "id": "HGxwZWEqYVG3"
      },
      "outputs": [],
      "source": [
        "from tensorflow.keras.preprocessing.text import Tokenizer"
      ]
    },
    {
      "cell_type": "markdown",
      "metadata": {
        "id": "3ULaOKNslfLd"
      },
      "source": [
        "- initialize chinese and english tokenizers"
      ]
    },
    {
      "cell_type": "code",
      "execution_count": null,
      "metadata": {
        "id": "wd6fWL_6ktMv"
      },
      "outputs": [],
      "source": [
        "en_tokenizer = Tokenizer(num_words = 25000, oov_token='<OOV>', filters='')\n",
        "\n",
        "ch_tokenizer = Tokenizer(oov_token='<OOV>', filters='')"
      ]
    },
    {
      "cell_type": "markdown",
      "metadata": {
        "id": "-YwauKCDezSQ"
      },
      "source": [
        "- alphabet and numbers for Chinese preprocessing"
      ]
    },
    {
      "cell_type": "code",
      "execution_count": null,
      "metadata": {
        "id": "dmvfIypNeyYc"
      },
      "outputs": [],
      "source": [
        " alpha = 'abcdefghijklmnopqrtstuvwxyz1234567890-/'"
      ]
    },
    {
      "cell_type": "markdown",
      "metadata": {
        "id": "TRi0RGcdNnUg"
      },
      "source": [
        "- preproccessing for sentences"
      ]
    },
    {
      "cell_type": "code",
      "execution_count": null,
      "metadata": {
        "id": "rd50Ep3TNmzF"
      },
      "outputs": [],
      "source": [
        "def en_preprocess_sentence(x):\n",
        "    x = x.lower().strip()\n",
        "\n",
        "    lst = []\n",
        "    for i in x.split():\n",
        "      try:\n",
        "        y = num2words(i)\n",
        "        lst.append(y)\n",
        "      except:\n",
        "        lst.append(i)\n",
        "    \n",
        "    x = ' '.join(lst)\n",
        "\n",
        "    x = re.sub(r\"([?.!,¿])\", r\" \\1 \", x)\n",
        "    x = re.sub(r'[\" \"]+', \" \", x)\n",
        "    x = x.replace('-',' ')\n",
        "    x = x.strip()\n",
        "    \n",
        "    x = '<start> ' + x + ' <end>'\n",
        "    \n",
        "    return x"
      ]
    },
    {
      "cell_type": "code",
      "execution_count": null,
      "metadata": {
        "id": "E8TKnYqvh7-C"
      },
      "outputs": [],
      "source": [
        "def ch_preprocess_sentence(x):\n",
        "  x = x.split()\n",
        "  lst = []\n",
        "  for i in x:\n",
        "    try:\n",
        "      y = num2words(i)\n",
        "      lst.append(y)\n",
        "    except:\n",
        "      for j in i:\n",
        "        if j.lower() not in alpha:\n",
        "          lst.append(j)\n",
        "            \n",
        "  x = ' '.join(lst)\n",
        "  x = re.sub(r\"([?.!,¿])\", r\" \\1 \", x)\n",
        "  x = re.sub(r'[\" \"]+', \" \", x)\n",
        "  x = x.replace('-',' ')\n",
        "  x = x.strip()\n",
        "  \n",
        "  x = '<start> ' + x + ' <end>'\n",
        "\n",
        "  return x"
      ]
    },
    {
      "cell_type": "markdown",
      "metadata": {
        "id": "aiGl_IFyn0dz"
      },
      "source": [
        "- arrays to store all data for English and Chinese"
      ]
    },
    {
      "cell_type": "markdown",
      "source": [
        "\n",
        "\n",
        "*   **Data from [UM Corpus](http://nlp2ct.cis.umac.mo/um-corpus/)**\n",
        "*   Download data from this link and import it into Google Drive\n",
        "\n"
      ],
      "metadata": {
        "id": "05r48WEDlbBC"
      }
    },
    {
      "cell_type": "code",
      "execution_count": null,
      "metadata": {
        "id": "hd-pBuJPjWXY"
      },
      "outputs": [],
      "source": [
        "import os\n",
        "en_data_total = []\n",
        "ch_data_total = []"
      ]
    },
    {
      "cell_type": "markdown",
      "metadata": {
        "id": "JUIf-q9yn3eC"
      },
      "source": [
        "- load data into each array from all text files"
      ]
    },
    {
      "cell_type": "code",
      "execution_count": null,
      "metadata": {
        "colab": {
          "base_uri": "https://localhost:8080/"
        },
        "id": "D_T22xDUTnYS",
        "outputId": "9a7631e1-c941-4f22-b131-c04e4b83ed78"
      },
      "outputs": [
        {
          "name": "stdout",
          "output_type": "stream",
          "text": [
            "220000\n",
            "5000\n"
          ]
        }
      ],
      "source": [
        "data_categories = [\"Spoken\",\"Microblog\"]\n",
        "\n",
        "en_data_test = []\n",
        "ch_data_test = []\n",
        "\n",
        "for category in data_categories:\n",
        "  with open(f'/content/drive/MyDrive/Bilingual/{category}/Bi-{category}.txt') as f:\n",
        "    data = f.readlines()\n",
        "    data_en = [en_preprocess_sentence(i) for i in data[::2]]\n",
        "    data_ch = [ch_preprocess_sentence(i) for i in data[1::2]]\n",
        "    print(len(data_en))\n",
        "    del data\n",
        "\n",
        "    if category == \"Subtitles\":\n",
        "      total = list(zip(data_en, data_ch))\n",
        "\n",
        "      random.shuffle(total)\n",
        "      data_en, data_ch = zip(*total)\n",
        "\n",
        "      data_en = list(data_en)\n",
        "      data_ch = list(data_ch)\n",
        "\n",
        "      data_en = data_en[:100000]\n",
        "      data_ch = data_ch[:100000]\n",
        "\n",
        "\n",
        "      en_data_total.extend(data_en)\n",
        "      ch_data_total.extend(data_ch)\n",
        "\n",
        "    elif category == \"Microblog\":\n",
        "      en_data_test.extend(data_en)\n",
        "      ch_data_test.extend(data_ch)\n",
        "\n",
        "    elif category == \"Spoken\":\n",
        "      en_data_total.extend(data_en)\n",
        "      ch_data_total.extend(data_ch)\n"
      ]
    },
    {
      "cell_type": "code",
      "execution_count": null,
      "metadata": {
        "id": "DLIPfn7s73fp"
      },
      "outputs": [],
      "source": [
        "en_data_total_new = []\n",
        "ch_data_total_new = []\n",
        "\n",
        "for i in range(len(en_data_total)):\n",
        "  if len(en_data_total[i].split()) <= 50:\n",
        "    en_data_total_new.append(en_data_total[i])\n",
        "    ch_data_total_new.append(ch_data_total[i])\n",
        "\n",
        "en_data_test_new = []\n",
        "ch_data_test_new = []\n",
        "\n",
        "for i in range(len(en_data_test)):\n",
        "  if len(en_data_test[i].split()) <= 50:\n",
        "    en_data_test_new.append(en_data_test[i])\n",
        "    ch_data_test_new.append(ch_data_test[i])\n",
        "\n",
        "en_data_test = en_data_test_new\n",
        "ch_data_test = ch_data_test_new\n",
        "\n",
        "del en_data_test_new\n",
        "del ch_data_test_new\n",
        "\n",
        "\n",
        "\n",
        "en_data_total = en_data_total_new\n",
        "ch_data_total = ch_data_total_new"
      ]
    },
    {
      "cell_type": "code",
      "execution_count": null,
      "metadata": {
        "colab": {
          "base_uri": "https://localhost:8080/"
        },
        "id": "0xOx4o38sYdU",
        "outputId": "6583e064-8dcc-4f2f-b5fe-fa5d5d7cff91"
      },
      "outputs": [
        {
          "name": "stdout",
          "output_type": "stream",
          "text": [
            "Chinese sentence 0: <start> 那 幅 不 大 的 画 原 来 是 柯 勒 乔 的 一 幅 未 被 发 现 的 杰 作 ， 价 值 几 十 万 英 镑 。 <end>\n",
            "English translation 0: <start> the tiny painting proved to be an unknown masterpiece by correggio and was worth hundreds of thousands of pounds . <end>\n",
            "Chinese sentence 1: <start> 他 说 ： “ 我 不 干 了 ， 我 受 够 了 <end>\n",
            "English translation 1: <start> he just said , that's it . i'm done . that's enough . <end>\n",
            "Chinese sentence 2: <start> 读 完 一 本 书 ， 有 不 完 全 理 解 的 地 方 是 很 自 然 的 。 没 关 系 。 把 它 搁 在 一 边 ， 再 读 另 一 本 。 <end>\n",
            "English translation 2: <start> after reading a book , it is only natural that you don't understand it all . never mind . put it aside and start another one . <end>\n",
            "Chinese sentence 3: <start> 我 们 已 安 排 用 火 车 运 输 你 们 所 需 的 大 米 。 <end>\n",
            "English translation 3: <start> we have arranged to transport the rice you purchased by rail . <end>\n",
            "Chinese sentence 4: <start> ： 我 们 下 一 项 技 术 实 际 上 是 一 个 英 尺 的 棍 子 ， <end>\n",
            "English translation 4: <start> zk: now , our next technology is actually a 10 foot pole , <end>\n",
            "Chinese sentence 5: <start> 这 个 比 较 难 懂 ， 不 太 显 而 易 见 ， 所 以 我 把 它 留 到 最 后 。 <end>\n",
            "English translation 5: <start> this is the hard one , the one that isn't obvious . that's why i leave it to the end . <end>\n",
            "Chinese sentence 6: <start> 外 面 蚂 蚁 的 工 作 分 配 变 化 。 <end>\n",
            "English translation 6: <start> the shifts in the allocation of workers that we actually see outside the nest . <end>\n",
            "Chinese sentence 7: <start> 我 们 现 在 在 网 上 有 一 个 很 好 的 临 床 指 导 书 。 <end>\n",
            "English translation 7: <start> we now have a great clinical guidance out on the net . <end>\n",
            "Chinese sentence 8: <start> 有 时 ， 土 壤 试 样 上 面 的 空 气 箱 与 调 压 源 相 连 接 。 <end>\n",
            "English translation 8: <start> sometimes the air chamber above the soil sample is connected to a regulated pressure source . <end>\n",
            "Chinese sentence 9: <start> 剪 切 数 据 到 剪 贴 板 会 替 代 以 前 存 储 在 那 里 的 内 容 。 <end>\n",
            "English translation 9: <start> cut data to the clipboard replace the contents previously stored there . <end>\n"
          ]
        }
      ],
      "source": [
        "for i in range(10):\n",
        "  rand = random.randint(0,len(en_data_total))\n",
        "  print(f'Chinese sentence {i}: {ch_data_total[rand]}')\n",
        "  print(f'English translation {i}: {en_data_total[rand]}')"
      ]
    },
    {
      "cell_type": "markdown",
      "metadata": {
        "id": "7EbG17JPn-GE"
      },
      "source": [
        "- fit tokenizer"
      ]
    },
    {
      "cell_type": "code",
      "execution_count": null,
      "metadata": {
        "id": "4B9RZjvKLmfy"
      },
      "outputs": [],
      "source": [
        "en_tokenizer.fit_on_texts(en_data_total) \n",
        "ch_tokenizer.fit_on_texts(ch_data_total)"
      ]
    },
    {
      "cell_type": "markdown",
      "metadata": {
        "id": "7kzX6KtfiuLJ"
      },
      "source": [
        "\n",
        "\n",
        "*   Save both tokenizers to a pickle file so they can easily be loaded later\n",
        "\n"
      ]
    },
    {
      "cell_type": "code",
      "execution_count": null,
      "metadata": {
        "id": "pR-XJWnxitrz"
      },
      "outputs": [],
      "source": [
        "import pickle\n",
        "\n",
        "with open(\"/content/drive/MyDrive/en_tokenizer.pickle\", \"wb\") as handle:\n",
        "  pickle.dump(en_tokenizer, handle, protocol=pickle.HIGHEST_PROTOCOL)\n",
        "\n",
        "with open(\"/content/drive/MyDrive/ch_tokenizer.pickle\", \"wb\") as handle:\n",
        "  pickle.dump(ch_tokenizer, handle, protocol=pickle.HIGHEST_PROTOCOL)"
      ]
    },
    {
      "cell_type": "markdown",
      "metadata": {
        "id": "l8R9cYjmoDSE"
      },
      "source": [
        "- tokenize data"
      ]
    },
    {
      "cell_type": "code",
      "execution_count": null,
      "metadata": {
        "id": "H6P0LPOtLrRK"
      },
      "outputs": [],
      "source": [
        "tensor_en_data_total = en_tokenizer.texts_to_sequences(en_data_total)\n",
        "\n",
        "tensor_ch_data_total = ch_tokenizer.texts_to_sequences(ch_data_total)\n",
        "\n",
        "tensor_en_data_test = en_tokenizer.texts_to_sequences(en_data_test)\n",
        "\n",
        "tensor_ch_data_test = ch_tokenizer.texts_to_sequences(ch_data_test)"
      ]
    },
    {
      "cell_type": "markdown",
      "metadata": {
        "id": "bfV7h6FmHciX"
      },
      "source": [
        "- pad tokenized tensors"
      ]
    },
    {
      "cell_type": "code",
      "execution_count": null,
      "metadata": {
        "id": "yS-ma3J2rKC3"
      },
      "outputs": [],
      "source": [
        "tensor_en_data_total= tf.keras.preprocessing.sequence.pad_sequences(tensor_en_data_total, padding='post')\n",
        "tensor_en_data_total = tf.cast(tensor_en_data_total, tf.int64)\n",
        "\n",
        "np.save(\"/content/drive/MyDrive/tensor_en_data.npy\", tensor_en_data_total.numpy())\n",
        "\n",
        "tensor_ch_data_total = tf.keras.preprocessing.sequence.pad_sequences(tensor_ch_data_total, padding='post')\n",
        "tensor_ch_data_total = tf.cast(tensor_ch_data_total, tf.int64)\n",
        "\n",
        "np.save(\"/content/drive/MyDrive/tensor_ch_data.npy\", tensor_ch_data_total.numpy())"
      ]
    },
    {
      "cell_type": "code",
      "execution_count": null,
      "metadata": {
        "id": "JJOB3r7uWWlB"
      },
      "outputs": [],
      "source": [
        "len_enc = tensor_ch_data_total.shape[1]\n",
        "len_dec = tensor_en_data_total.shape[1]"
      ]
    },
    {
      "cell_type": "code",
      "execution_count": null,
      "metadata": {
        "id": "7ht_toLRWOX9"
      },
      "outputs": [],
      "source": [
        "tensor_en_data_test = tf.keras.preprocessing.sequence.pad_sequences(tensor_en_data_test, maxlen=len_dec, padding='post')\n",
        "tensor_en_data_test = tf.cast(tensor_en_data_test, tf.int64)\n",
        "\n",
        "np.save(\"/content/drive/MyDrive/test_en_data.npy\", tensor_en_data_test.numpy())\n",
        "\n",
        "tensor_ch_data_test = tf.keras.preprocessing.sequence.pad_sequences(tensor_ch_data_test, maxlen=len_enc, padding='post')\n",
        "tensor_ch_data_test = tf.cast(tensor_ch_data_test, tf.int64)\n",
        "\n",
        "np.save(\"/content/drive/MyDrive/test_ch_data.npy\", tensor_ch_data_test.numpy())"
      ]
    },
    {
      "cell_type": "markdown",
      "metadata": {
        "id": "LVNWFquGEWUn"
      },
      "source": [
        "**Start from here if Data processing was already finished**"
      ]
    },
    {
      "cell_type": "code",
      "execution_count": null,
      "metadata": {
        "id": "6XaPYeGLET_4"
      },
      "outputs": [],
      "source": [
        "tensor_en_data_total = tf.convert_to_tensor(np.load(\"/content/drive/MyDrive/tensor_en_data.npy\"))\n",
        "tensor_ch_data_total = tf.convert_to_tensor(np.load(\"/content/drive/MyDrive/tensor_ch_data.npy\"))\n",
        "\n",
        "tensor_en_data_test = tf.convert_to_tensor(np.load(\"/content/drive/MyDrive/test_en_data.npy\"))\n",
        "tensor_ch_data_test = tf.convert_to_tensor(np.load(\"/content/drive/MyDrive/test_ch_data.npy\"))"
      ]
    },
    {
      "cell_type": "code",
      "execution_count": null,
      "metadata": {
        "id": "_-5yAYltjXXE"
      },
      "outputs": [],
      "source": [
        "import pickle\n",
        "with open(\"/content/drive/MyDrive/en_tokenizer.pickle\", \"rb\") as handle:\n",
        "  en_tokenizer = pickle.load(handle)\n",
        "with open(\"/content/drive/MyDrive/ch_tokenizer.pickle\", \"rb\") as handle:\n",
        "  ch_tokenizer = pickle.load(handle)"
      ]
    },
    {
      "cell_type": "code",
      "execution_count": null,
      "metadata": {
        "id": "9WBbbKPHzF-Z"
      },
      "outputs": [],
      "source": [
        "def iterate_through_training_sentences():\n",
        "  for x,y in zip(tensor_ch_data_total[:200000,],tensor_en_data_total[:200000,]):\n",
        "    yield x,y\n",
        "\n",
        "def iterate_through_val_sentences():\n",
        "  for x,y in zip(tensor_ch_data_total[200000:,],tensor_en_data_total[200000:,]):\n",
        "    yield x,y\n",
        "\n",
        "def iterate_through_test_sentences():\n",
        "  for x,y in zip(tensor_ch_data_test,tensor_en_data_test):\n",
        "    yield x,y"
      ]
    },
    {
      "cell_type": "markdown",
      "metadata": {
        "id": "O36acqfA7gsC"
      },
      "source": [
        "- all hyperparameters\n",
        "- **Play around with these hyperparameters to improve the model's performance!**"
      ]
    },
    {
      "cell_type": "code",
      "execution_count": null,
      "metadata": {
        "id": "pxFJkxPe7faT"
      },
      "outputs": [],
      "source": [
        "BATCH_SIZE = 64\n",
        "BUFFER_SIZE = 1000\n",
        "EPOCHS = 50\n",
        "num_layers = 4\n",
        "d_model = 256\n",
        "dff = 1024\n",
        "dropout_rate = 0.3\n",
        "num_heads = 8\n",
        "enc_vocab_size = len(ch_tokenizer.word_index) + 1\n",
        "dec_vocab_size = en_tokenizer.num_words + 1\n",
        "max_pos_enc = tensor_ch_data_total.shape[1]\n",
        "max_pos_dec = tensor_en_data_total.shape[1]"
      ]
    },
    {
      "cell_type": "markdown",
      "metadata": {
        "id": "uI5Byxwk7x5_"
      },
      "source": [
        "- turn data into tf dataset and batch"
      ]
    },
    {
      "cell_type": "code",
      "execution_count": null,
      "metadata": {
        "id": "7D2h2IUq46Ei"
      },
      "outputs": [],
      "source": [
        "training_dataset = Dataset.from_generator(iterate_through_training_sentences, output_signature = (tf.TensorSpec(shape=(max_pos_enc,), dtype=tf.int64),\n",
        "                                                                               tf.TensorSpec(shape=(max_pos_dec,), dtype=tf.int64))).cache().shuffle(BUFFER_SIZE).batch(BATCH_SIZE).prefetch(tf.data.AUTOTUNE)\n",
        "\n",
        "\n",
        "val_dataset = Dataset.from_generator(iterate_through_val_sentences, output_signature = (tf.TensorSpec(shape=(max_pos_enc,), dtype=tf.int64),\n",
        "                                                                               tf.TensorSpec(shape=(max_pos_dec,), dtype=tf.int64))).cache().shuffle(BUFFER_SIZE).batch(BATCH_SIZE).prefetch(tf.data.AUTOTUNE)\n",
        "\n",
        "test_dataset = Dataset.from_generator(iterate_through_test_sentences, output_signature = (tf.TensorSpec(shape=(max_pos_enc,), dtype=tf.int64),\n",
        "                                                                               tf.TensorSpec(shape=(max_pos_dec,), dtype=tf.int64))).cache().shuffle(BUFFER_SIZE).batch(BATCH_SIZE).prefetch(tf.data.AUTOTUNE)\n"
      ]
    },
    {
      "cell_type": "markdown",
      "metadata": {
        "id": "aC_-ic09YOPO"
      },
      "source": [
        "# Transformer"
      ]
    },
    {
      "cell_type": "markdown",
      "metadata": {
        "id": "vHq47t8fUcDD"
      },
      "source": [
        "Positional encoding\n",
        "\n",
        "- gives the Transformer a way to know position it is currently on\n",
        "- easy for the Transformer to learn this sinusoidal function"
      ]
    },
    {
      "cell_type": "code",
      "execution_count": null,
      "metadata": {
        "id": "KYGrMPRNqaRc"
      },
      "outputs": [],
      "source": [
        "#positional encoding function\n",
        "\n",
        "def get_angles(pos, i, d_model):\n",
        "  angle_rates = 1 / np.power(10000, (2 * (i//2)) / np.float32(d_model))\n",
        "  return pos * angle_rates\n",
        "\n",
        "def pos_encoding(position, d_model):\n",
        "  angle_rads = get_angles(np.arange(position)[:, np.newaxis],\n",
        "                          np.arange(d_model)[np.newaxis, :],\n",
        "                          d_model)\n",
        "  angle_rads[:, 0::2] = np.sin(angle_rads[:, 0::2])\n",
        "\n",
        "  angle_rads[:, 1::2] = np.cos(angle_rads[:, 1::2])\n",
        "\n",
        "  pos_encoding = angle_rads[np.newaxis, ...]\n",
        "\n",
        "  return tf.cast(pos_encoding, dtype=tf.float32)\n"
      ]
    },
    {
      "cell_type": "markdown",
      "metadata": {
        "id": "OL7VVES6UtSZ"
      },
      "source": [
        "Plot of the Positional Encoding Function\n",
        "\n"
      ]
    },
    {
      "cell_type": "code",
      "execution_count": null,
      "metadata": {
        "colab": {
          "base_uri": "https://localhost:8080/",
          "height": 428
        },
        "id": "QUQcConpAzw_",
        "outputId": "86a40862-d11d-44b1-ea52-c5573d5510cf"
      },
      "outputs": [
        {
          "data": {
            "image/png": "[encoded data removed]",
            "text/plain": [
              "<Figure size 576x504 with 2 Axes>"
            ]
          },
          "metadata": {},
          "output_type": "display_data"
        }
      ],
      "source": [
        "fig, ax = plt.subplots(figsize=(8, 7))\n",
        "sns.heatmap(pos_encoding(100, 100)[0], ax=ax, cmap='bwr_r')\n",
        "ax.get_xaxis().set_visible(False)\n",
        "ax.get_yaxis().set_visible(False)\n",
        "ax.set_title('Positional encoding function')\n",
        "fig.show()"
      ]
    },
    {
      "cell_type": "markdown",
      "metadata": {
        "id": "-KLHRiRuU0zo"
      },
      "source": [
        "**Look** **Ahead** **Mask**\n",
        "- makes the Transformer unable to use future words when predicting the next translation for the current word\n",
        "- neccesary since the Transformer is fully-connected and needs a way for future words to be hidden"
      ]
    },
    {
      "cell_type": "code",
      "execution_count": null,
      "metadata": {
        "id": "34tJmTlGElEC"
      },
      "outputs": [],
      "source": [
        "def create_look_ahead_mask(shape):\n",
        "  mask = 1 - tf.linalg.band_part(tf.ones((shape,shape)), -1, 0)\n",
        "  return mask"
      ]
    },
    {
      "cell_type": "markdown",
      "metadata": {
        "id": "QD6JNWV1bat3"
      },
      "source": [
        "**Padding Mask**\n",
        "- makes the Transformer pay very little attention to zero padding in the input\n",
        "- necessary since Transformers have to be padded"
      ]
    },
    {
      "cell_type": "code",
      "execution_count": null,
      "metadata": {
        "id": "fe6z-cJcbaHB"
      },
      "outputs": [],
      "source": [
        "def create_padding_mask(mat):\n",
        "  mat = tf.cast(tf.math.equal(mat, 0), tf.float32)\n",
        "  return mat[:, tf.newaxis, tf.newaxis, :]"
      ]
    },
    {
      "cell_type": "markdown",
      "metadata": {
        "id": "5k3yUppJVKSb"
      },
      "source": [
        "**Self** **Attention** **Class**\n",
        "\n",
        "- class that defines one self-attention block\n",
        "- parameters are d_model (embedding size) and d_k (output size)\n",
        "- uses Query, Key, and Value weights to create query, key, and value vectors which are passed through a softmax layer to specify the **Attention** given to each word"
      ]
    },
    {
      "cell_type": "code",
      "execution_count": null,
      "metadata": {
        "id": "EzfmeL6ShFig"
      },
      "outputs": [],
      "source": [
        "def SelfAttention(q, k, v, mask):\n",
        "  matmul_qk = tf.matmul(q, k, transpose_b=True) \n",
        "\n",
        "  dk = tf.cast(tf.shape(k)[-1], tf.float32)\n",
        "  scaled_attention_logits = matmul_qk / tf.math.sqrt(dk)\n",
        "\n",
        "  if mask is not None:\n",
        "    scaled_attention_logits += (mask * -1e9)\n",
        "\n",
        "  attention_weights = tf.nn.softmax(scaled_attention_logits, axis=-1) \n",
        "\n",
        "  output = tf.matmul(attention_weights, v) \n",
        "\n",
        "  return output, attention_weights\n"
      ]
    },
    {
      "cell_type": "markdown",
      "metadata": {
        "id": "8hPW5zH5Vrlf"
      },
      "source": [
        "***Multi-Head Attention Class*** \n",
        "\n",
        "- multi-head attention is used to benefit from different self-attention blocks from different spaces\n",
        "- parameters are d_model , d_k, and num_heads (number of self-attention heads)\n",
        "- does normal self-attention computation then concatenates the results of the different heads and passes them though a Dense layer to get the final outputs"
      ]
    },
    {
      "cell_type": "code",
      "execution_count": null,
      "metadata": {
        "id": "3GA_RnVNu2xm"
      },
      "outputs": [],
      "source": [
        "class MultiHeadAttention(tf.keras.layers.Layer):\n",
        "\n",
        "  def __init__(self, d_model, num_heads):\n",
        "    super(MultiHeadAttention, self).__init__()\n",
        "    self.num_heads = num_heads\n",
        "    self.d_model = d_model\n",
        "\n",
        "    assert d_model % num_heads == 0\n",
        "\n",
        "    self.depth = d_model // num_heads\n",
        "\n",
        "    self.wq = tf.keras.layers.Dense(d_model)\n",
        "    self.wk = tf.keras.layers.Dense(d_model)\n",
        "    self.wv = tf.keras.layers.Dense(d_model)\n",
        "\n",
        "    self.dense = tf.keras.layers.Dense(d_model)\n",
        "\n",
        "  def split_heads(self, x, batch_size):\n",
        "    x = tf.reshape(x, (batch_size, -1, self.num_heads, self.depth))\n",
        "    return tf.transpose(x, perm=[0, 2, 1, 3])\n",
        "\n",
        "  def call(self, v, k, q, mask):\n",
        "    batch_size = tf.shape(q)[0]\n",
        "\n",
        "    q = self.wq(q) \n",
        "    k = self.wk(k) \n",
        "    v = self.wv(v)  \n",
        "\n",
        "    q = self.split_heads(q, batch_size) \n",
        "    k = self.split_heads(k, batch_size)  \n",
        "    v = self.split_heads(v, batch_size)  \n",
        "\n",
        "    scaled_attention, attention_weights = SelfAttention(\n",
        "        q, k, v, mask)\n",
        "\n",
        "    scaled_attention = tf.transpose(scaled_attention, perm=[0, 2, 1, 3]) \n",
        "\n",
        "    concat_attention = tf.reshape(scaled_attention,\n",
        "                                  (batch_size, -1, self.d_model)) \n",
        "\n",
        "    output = self.dense(concat_attention)\n",
        "\n",
        "    return output, attention_weights\n",
        "\n",
        "  \n",
        "  def get_context(self, v, k, q, mask):\n",
        "    batch_size = tf.shape(q)[0]\n",
        "\n",
        "    q = self.wq(q) \n",
        "    k = self.wk(k) \n",
        "    v = self.wv(v)  \n",
        "\n",
        "    q = self.split_heads(q, batch_size) \n",
        "    k = self.split_heads(k, batch_size)  \n",
        "    v = self.split_heads(v, batch_size)  \n",
        "\n",
        "    scaled_attention, attention_weights = SelfAttention(\n",
        "        q, k, v, mask)\n",
        "\n",
        "    scaled_attention = tf.transpose(scaled_attention, perm=[0, 2, 1, 3]) \n",
        "\n",
        "    return scaled_attention, attention_weights"
      ]
    },
    {
      "cell_type": "markdown",
      "metadata": {
        "id": "srBRRZbiWZT_"
      },
      "source": [
        "***Point-Wise Feed Forward network Class***\n",
        "- parameters are d_model and d_ff(number of perceptrons in middle layer)\n",
        "- the point wise feed forward network is used in between the multi-head attention layers to point wise transform the output"
      ]
    },
    {
      "cell_type": "code",
      "execution_count": null,
      "metadata": {
        "id": "l3UgsMDNzVah"
      },
      "outputs": [],
      "source": [
        "class PointWiseFeedForward(tf.keras.layers.Layer):\n",
        "\n",
        "  def __init__(self, d_model, dff):\n",
        "    super(PointWiseFeedForward, self).__init__()\n",
        "    self.network = tf.keras.Sequential([Dense(dff, activation='relu'),\n",
        "                                        Dense(d_model)])\n",
        "  def call(self, x):\n",
        "    z = self.network(x)\n",
        "    return z\n"
      ]
    },
    {
      "cell_type": "markdown",
      "metadata": {
        "id": "syIuT5Nv3TXv"
      },
      "source": [
        "**Branched Multi Head Attention**\n",
        "\n",
        "\n",
        "*   From the paper *Weighted Transformer Network for Machine Translation*\n",
        "\n"
      ]
    },
    {
      "cell_type": "code",
      "execution_count": null,
      "metadata": {
        "id": "e0fbu03s3S0s"
      },
      "outputs": [],
      "source": [
        "class BranchedMultiHeadAttention(tf.keras.layers.Layer):\n",
        "\n",
        "  def __init__(self, d_model, d_ff, n_branches, rate):\n",
        "    super(BranchedMultiHeadAttention, self).__init__()\n",
        "    self.d_k = d_model//n_branches\n",
        "    self.d_v = d_model//n_branches\n",
        "    self.d_model = d_model\n",
        "    self.n_branches = n_branches\n",
        "\n",
        "    self.attention = MultiHeadAttention(d_model, n_branches)\n",
        "\n",
        "    self.w_o = [Dense(d_model, kernel_initializer='glorot_normal') for i in range(n_branches)]\n",
        "\n",
        "    self.w_k = tf.random.uniform(shape=[self.n_branches])\n",
        "    self.w_k = tf.Variable(self.w_k/tf.reduce_sum(self.w_k), trainable=True)\n",
        "\n",
        "    self.w_a = tf.random.uniform(shape=[self.n_branches])\n",
        "    self.w_a = tf.Variable(self.w_a/tf.reduce_sum(self.w_a), trainable=True)\n",
        "    self.d_ff = d_ff\n",
        "\n",
        "    self.ffn = [PointWiseFeedForward(d_model, d_ff//n_branches) for i in range(n_branches)]\n",
        "\n",
        "    self.dropout1 = Dropout(rate)\n",
        "    self.dropout2 = Dropout(rate)\n",
        "\n",
        "    self.layer_norm = LayerNormalization()\n",
        "\n",
        "\n",
        "  def call(self, v, k, q, mask, training):\n",
        "    batch_size = tf.shape(q)[0]\n",
        "    len_q = tf.shape(q)[1]\n",
        "    residual = q\n",
        "    \n",
        "    context, attention_weights = self.attention.get_context(v, k, q, mask)\n",
        "    context = tf.reshape(context, shape=(batch_size, len_q, self.n_branches*self.d_v))\n",
        "\n",
        "    context = self.dropout1(context, training=training)\n",
        "\n",
        "    context = tf.split(context, self.n_branches, axis=-1)\n",
        "    \n",
        "\n",
        "    outputs = [self.w_o[i](context[i]) for i in range(self.n_branches)]\n",
        "    outputs = [self.w_k[i] * outputs[i] for i in range(self.n_branches)]\n",
        "    outputs = [self.ffn[i](outputs[i]) for i in range(self.n_branches)]\n",
        "    outputs = [self.w_a[i] * outputs[i] for i in range(self.n_branches)]\n",
        "\n",
        "    outputs = tf.stack(outputs)\n",
        "    outputs = tf.reduce_sum(outputs, axis=0)\n",
        "\n",
        "    outputs = tf.convert_to_tensor(outputs)\n",
        "\n",
        "    outputs = self.dropout2(outputs, training=training)\n",
        "    \n",
        "    outputs = self.layer_norm(residual + outputs)\n",
        "\n",
        "    return outputs, attention_weights\n",
        "\n"
      ]
    },
    {
      "cell_type": "markdown",
      "metadata": {
        "id": "wKlWcDP-Wzo3"
      },
      "source": [
        "***Encoder Layer Class***\n",
        "\n",
        "![1*o0pS0LbXVw7i41vSISrw1A.png](data:image/png;base64,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)\n",
        "\n",
        "- full encoder layer of the Transformer\n",
        "- contains 1 Multi-Head Self Attention layer followed by a residual connection from the input embedding and layer normalization, then the output of layer norm goes to the Point Wise Feed Forward and then that output is followed by another residual connection from the output of the Multi-Head attention layer and layer normalized and then passed as the Key and Value vector to each Decoder layer in the decoder\n"
      ]
    },
    {
      "cell_type": "code",
      "execution_count": null,
      "metadata": {
        "id": "mNWDWBRK1KGv"
      },
      "outputs": [],
      "source": [
        "class EncoderLayer(tf.keras.layers.Layer):\n",
        "\n",
        "  def __init__(self, d_model, d_ff, num_heads, rate=0.1):\n",
        "\n",
        "    super(EncoderLayer, self).__init__()\n",
        "    self.attn = MultiHeadAttention(d_model, num_heads)\n",
        "    self.ff = PointWiseFeedForward(d_model,d_ff)\n",
        "    self.layernorm1 = LayerNormalization()\n",
        "    self.layernorm2 = LayerNormalization()\n",
        "    self.dropout1 = Dropout(rate)\n",
        "    self.dropout2 = Dropout(rate)\n",
        "\n",
        "  def call(self, x, training, mask):\n",
        "    attn_output, _ = self.attn(x, x, x, mask) \n",
        "    attn_output = self.dropout1(attn_output, training=training)\n",
        "    out1 = self.layernorm1(x + attn_output) \n",
        "\n",
        "    ffn_output = self.ff(out1) \n",
        "    ffn_output = self.dropout2(ffn_output,training=training)\n",
        "    out2 = self.layernorm2(out1 + ffn_output)\n",
        "\n",
        "    return out2"
      ]
    },
    {
      "cell_type": "code",
      "execution_count": null,
      "metadata": {
        "id": "30optY5QDsYQ"
      },
      "outputs": [],
      "source": [
        "class WeightedEncoderLayer(tf.keras.layers.Layer):\n",
        "\n",
        "  def __init__(self, d_model, d_ff, num_heads, rate=0.1):\n",
        "\n",
        "    super(WeightedEncoderLayer, self).__init__()\n",
        "    self.attn = BranchedMultiHeadAttention(d_model, d_ff, num_heads, rate)\n",
        "\n",
        "  def call(self, x, training, mask):\n",
        "    attn_output, _ = self.attn(x, x, x, mask, training) \n",
        "\n",
        "    return attn_output"
      ]
    },
    {
      "cell_type": "markdown",
      "metadata": {
        "id": "XX2ePE5ywDFk"
      },
      "source": [
        "**Encoder Class**\n",
        "- comprised of stacked Encoder Layers and an embedding layer with a positional encoding added\n",
        "- hyperparameters are d_model(embedding size), d_k(output k, q, and v vector size), num_heads, num_layers(number of stacked Encoder Layers)"
      ]
    },
    {
      "cell_type": "code",
      "execution_count": null,
      "metadata": {
        "id": "tZ3PCmjWDuvw"
      },
      "outputs": [],
      "source": [
        "class Encoder(tf.keras.layers.Layer):\n",
        "\n",
        "  def __init__(self, num_layers, d_model, num_heads, dff, input_vocab_size,\n",
        "               maximum_position_encoding, rate=0.1):\n",
        "    super(Encoder, self).__init__()\n",
        "\n",
        "    self.d_model = d_model\n",
        "    self.num_layers = num_layers\n",
        "\n",
        "    self.embedding = tf.keras.layers.Embedding(input_vocab_size, d_model)\n",
        "    self.pos_encoding = pos_encoding(maximum_position_encoding,\n",
        "                                            self.d_model)\n",
        "\n",
        "    self.enc_layers = [EncoderLayer(d_model=d_model, d_ff=dff,num_heads=num_heads, rate=rate)\n",
        "                       for _ in range(num_layers)]\n",
        "\n",
        "  def call(self, x, training, mask):\n",
        "\n",
        "    seq_len = tf.shape(x)[1]\n",
        "\n",
        "    x = self.embedding(x) \n",
        "    x *= tf.math.sqrt(tf.cast(self.d_model, tf.float32))\n",
        "    x += self.pos_encoding[:, :seq_len, :]\n",
        "\n",
        "    for i in range(self.num_layers):\n",
        "      x = self.enc_layers[i](x, training, mask)\n",
        "\n",
        "    return x \n",
        "\n",
        "\n",
        "\n"
      ]
    },
    {
      "cell_type": "code",
      "execution_count": null,
      "metadata": {
        "id": "Wq3qz-Ex36TX"
      },
      "outputs": [],
      "source": [
        "class WeightedEncoder(tf.keras.layers.Layer):\n",
        "\n",
        "  def __init__(self, num_layers, d_model, num_heads, dff, input_vocab_size,\n",
        "               maximum_position_encoding, rate=0.1):\n",
        "    super(WeightedEncoder, self).__init__()\n",
        "\n",
        "    self.d_model = d_model\n",
        "    self.num_layers = num_layers\n",
        "\n",
        "    self.embedding = tf.keras.layers.Embedding(input_vocab_size, d_model)\n",
        "    self.pos_encoding = pos_encoding(maximum_position_encoding,\n",
        "                                            self.d_model)\n",
        "\n",
        "    self.enc_layers = [WeightedEncoderLayer(d_model=d_model, d_ff=dff, num_heads=num_heads, rate=rate)\n",
        "                       for _ in range(num_layers)]\n",
        "\n",
        "  def call(self, x, training, mask):\n",
        "\n",
        "    seq_len = tf.shape(x)[1]\n",
        "\n",
        "    x = self.embedding(x) \n",
        "    x *= tf.math.sqrt(tf.cast(self.d_model, tf.float32))\n",
        "    x += self.pos_encoding[:, :seq_len, :]\n",
        "\n",
        "    for i in range(self.num_layers):\n",
        "      x = self.enc_layers[i](x, training, mask)\n",
        "\n",
        "    return x "
      ]
    },
    {
      "cell_type": "markdown",
      "metadata": {
        "id": "x33_XsS1Otl2"
      },
      "source": [
        "**Decoder Layer Class**\n",
        "\n",
        "![decoder_layer.jpeg](data:image/jpeg;base64,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)\n",
        "\n",
        "- full decoder layer of the Transformer\n",
        "- contains 2 Multi-Head Self Attention layers with residual connections and layer normalization, "
      ]
    },
    {
      "cell_type": "code",
      "execution_count": null,
      "metadata": {
        "id": "_qKtwrBWJYhe"
      },
      "outputs": [],
      "source": [
        "class DecoderLayer(tf.keras.layers.Layer):\n",
        "\n",
        "  def __init__(self, d_model, dff, num_heads, rate=0.1):\n",
        "    super(DecoderLayer, self).__init__()\n",
        "    self.attn1 = MultiHeadAttention(d_model, num_heads)\n",
        "    self.attn2 = MultiHeadAttention(d_model, num_heads)\n",
        "    self.ffn = PointWiseFeedForward(d_model, dff)\n",
        "    self.layernorm1 = LayerNormalization()\n",
        "    self.layernorm2 = LayerNormalization()\n",
        "    self.layernorm3 = LayerNormalization()\n",
        "\n",
        "    self.dropout1 = Dropout(rate)\n",
        "    self.dropout2 = Dropout(rate)\n",
        "    self.dropout3 = Dropout(rate)\n",
        "  \n",
        "  def call(self, x, enc_output, training, look_ahead_mask, padding_mask):\n",
        "\n",
        "    attn1, attn_weights_block1 = self.attn1(x, x, x, look_ahead_mask) \n",
        "    attn1 = self.dropout1(attn1, training=training)\n",
        "    out1 = self.layernorm1(attn1 + x)\n",
        "\n",
        "    attn2, attn_weights_block2 = self.attn2(\n",
        "        enc_output, enc_output, out1, padding_mask) \n",
        "    attn2 = self.dropout2(attn2, training=training)\n",
        "    out2 = self.layernorm2(attn2 + out1) \n",
        "\n",
        "    ffn_output = self.ffn(out2) \n",
        "    ffn_output = self.dropout3(ffn_output, training=training)\n",
        "    out3 = self.layernorm3(ffn_output + out2) \n",
        "\n",
        "    \n",
        "\n",
        "    return out3, attn_weights_block1, attn_weights_block2\n",
        "\n",
        "\n"
      ]
    },
    {
      "cell_type": "code",
      "execution_count": null,
      "metadata": {
        "id": "w6IBepHfeB_D"
      },
      "outputs": [],
      "source": [
        "class WeightedDecoderLayer(tf.keras.layers.Layer):\n",
        "\n",
        "    def __init__(self, d_model, dff, n_branches, rate=0.1):\n",
        "        super(WeightedDecoderLayer, self).__init__()\n",
        "        self.dec_self_attn = MultiHeadAttention(d_model, n_branches)\n",
        "        self.dec_enc_attn = BranchedMultiHeadAttention(d_model, dff, n_branches, rate)\n",
        "\n",
        "        self.dropout = Dropout(rate)\n",
        "        self.layernorm = LayerNormalization()\n",
        "\n",
        "    def call(self, x, enc_output, training, look_ahead_mask, padding_mask):\n",
        "        dec_outputs, dec_self_attn = self.dec_self_attn(x, x, x, look_ahead_mask)\n",
        "        dec_outputs = self.dropout(dec_outputs, training=training)\n",
        "        dec_outputs = self.layernorm(x + dec_outputs)\n",
        "\n",
        "        dec_outputs, dec_enc_attn = self.dec_enc_attn(enc_output, enc_output, dec_outputs, padding_mask, training)\n",
        "        \n",
        "        return dec_outputs, dec_self_attn, dec_enc_attn"
      ]
    },
    {
      "cell_type": "code",
      "execution_count": null,
      "metadata": {
        "id": "obumGNHI0Hl3"
      },
      "outputs": [],
      "source": [
        "class Decoder(tf.keras.layers.Layer):\n",
        "\n",
        "  def __init__(self, num_layers, d_model, num_heads, dff, target_vocab_size,\n",
        "               maximum_position_encoding, rate=0.1):\n",
        "    super(Decoder, self).__init__()\n",
        "\n",
        "    self.d_model = d_model\n",
        "    self.num_layers = num_layers\n",
        "\n",
        "    self.embedding = tf.keras.layers.Embedding(target_vocab_size, d_model)\n",
        "    self.pos_encoding = pos_encoding(maximum_position_encoding, d_model)\n",
        "\n",
        "    self.dec_layers = [DecoderLayer(d_model=d_model,dff=dff, num_heads=num_heads, rate=rate)\n",
        "                       for _ in range(num_layers)]\n",
        "\n",
        "  def call(self, x, enc_output, training,\n",
        "           look_ahead_mask, padding_mask):\n",
        "\n",
        "    seq_len = tf.shape(x)[1]\n",
        "    attention_weights = {}\n",
        "\n",
        "    x = self.embedding(x) \n",
        "    x *= tf.math.sqrt(tf.cast(self.d_model, tf.float32))\n",
        "    x += self.pos_encoding[:, :seq_len, :]\n",
        "\n",
        "    for i in range(self.num_layers):\n",
        "      x, block1, block2 = self.dec_layers[i](x, enc_output, training,\n",
        "                                             look_ahead_mask, padding_mask)\n",
        "\n",
        "      attention_weights[f'decoder_layer{i+1}_block1'] = block1\n",
        "      attention_weights[f'decoder_layer{i+1}_block2'] = block2\n",
        "\n",
        "    return x, attention_weights\n"
      ]
    },
    {
      "cell_type": "code",
      "execution_count": null,
      "metadata": {
        "id": "qA-6HaZ-3yN3"
      },
      "outputs": [],
      "source": [
        "class WeightedDecoder(tf.keras.layers.Layer):\n",
        "\n",
        "  def __init__(self, num_layers, d_model, num_heads, dff, target_vocab_size,\n",
        "               maximum_position_encoding, rate=0.1):\n",
        "    super(WeightedDecoder, self).__init__()\n",
        "\n",
        "    self.d_model = d_model\n",
        "    self.num_layers = num_layers\n",
        "\n",
        "    self.embedding = tf.keras.layers.Embedding(target_vocab_size, d_model)\n",
        "    self.pos_encoding = pos_encoding(maximum_position_encoding, d_model)\n",
        "\n",
        "    self.dec_layers = [WeightedDecoderLayer(d_model=d_model, dff=dff, n_branches=num_heads, rate=rate)\n",
        "                       for _ in range(num_layers)]\n",
        "\n",
        "  def call(self, x, enc_output, training,\n",
        "           look_ahead_mask, padding_mask):\n",
        "\n",
        "    seq_len = tf.shape(x)[1]\n",
        "    attention_weights = {}\n",
        "\n",
        "    x = self.embedding(x) \n",
        "    x *= tf.math.sqrt(tf.cast(self.d_model, tf.float32))\n",
        "    x += self.pos_encoding[:, :seq_len, :]\n",
        "\n",
        "    for i in range(self.num_layers):\n",
        "      x, block1, block2 = self.dec_layers[i](x, enc_output, training,\n",
        "                                             look_ahead_mask, padding_mask)\n",
        "\n",
        "      attention_weights[f'decoder_layer{i+1}_block1'] = block1\n",
        "      attention_weights[f'decoder_layer{i+1}_block2'] = block2\n",
        "\n",
        "    return x, attention_weights\n"
      ]
    },
    {
      "cell_type": "code",
      "execution_count": null,
      "metadata": {
        "id": "-11SXMnX-BUD"
      },
      "outputs": [],
      "source": [
        "class Transformer(tf.keras.Model):\n",
        "\n",
        "  def __init__(self, num_layers, d_model, num_heads, dff, input_vocab_size,\n",
        "               target_vocab_size, pe_input, pe_target, rate=0.1):\n",
        "    super(Transformer, self).__init__()\n",
        "\n",
        "    self.tokenizer = Encoder(num_layers=num_layers, d_model=d_model, num_heads=num_heads, dff=dff,\n",
        "                             input_vocab_size=input_vocab_size, maximum_position_encoding=pe_input,rate=rate)\n",
        "\n",
        "    self.decoder = Decoder(num_layers=num_layers, d_model=d_model, num_heads=num_heads, dff=dff,\n",
        "                           target_vocab_size=target_vocab_size, maximum_position_encoding=pe_target,rate=rate)\n",
        "\n",
        "    self.final_layer = tf.keras.layers.Dense(target_vocab_size)\n",
        "\n",
        "  def call(self, inputs, training):\n",
        "    \n",
        "    inp, tar = inputs\n",
        "\n",
        "    enc_padding_mask, look_ahead_mask, dec_padding_mask = self.create_all_masks(inp, tar)\n",
        "\n",
        "    enc_output = self.tokenizer(inp, training, enc_padding_mask) \n",
        "\n",
        "    dec_output, attention_weights = self.decoder(\n",
        "        tar, enc_output, training, look_ahead_mask, dec_padding_mask)\n",
        "\n",
        "    final_output = self.final_layer(dec_output) \n",
        "\n",
        "    return final_output, attention_weights\n",
        "  \n",
        "  def create_all_masks(self, inp, tar):\n",
        "    enc_padding_mask = create_padding_mask(inp)\n",
        "  \n",
        "    dec_padding_mask = create_padding_mask(inp)\n",
        "\n",
        "    look_ahead_mask = create_look_ahead_mask(tf.shape(tar)[1])\n",
        "    dec_tar_padding_mask = create_padding_mask(tar)\n",
        "    combined = tf.maximum(dec_tar_padding_mask, look_ahead_mask)\n",
        "\n",
        "    return enc_padding_mask, combined, dec_padding_mask"
      ]
    },
    {
      "cell_type": "code",
      "execution_count": null,
      "metadata": {
        "id": "JiS9cMmq4JTF"
      },
      "outputs": [],
      "source": [
        "class WeightedTransformer(tf.keras.Model):\n",
        "\n",
        "  def __init__(self, num_layers, d_model, num_heads, dff, input_vocab_size,\n",
        "               target_vocab_size, pe_input, pe_target, rate=0.1):\n",
        "    super(WeightedTransformer, self).__init__()\n",
        "\n",
        "    self.tokenizer = WeightedEncoder(num_layers=num_layers, d_model=d_model, num_heads=num_heads, dff=dff,\n",
        "                             input_vocab_size=input_vocab_size, maximum_position_encoding=pe_input,rate=rate)\n",
        "\n",
        "    self.decoder = WeightedDecoder(num_layers=num_layers, d_model=d_model, num_heads=num_heads, dff=dff,\n",
        "                           target_vocab_size=target_vocab_size, maximum_position_encoding=pe_target,rate=rate)\n",
        "\n",
        "    self.final_layer = tf.keras.layers.Dense(target_vocab_size)\n",
        "\n",
        "  def call(self, inputs, training):\n",
        "    \n",
        "    inp, tar = inputs\n",
        "\n",
        "    enc_padding_mask, look_ahead_mask, dec_padding_mask = self.create_all_masks(inp, tar)\n",
        "\n",
        "    enc_output = self.tokenizer(inp, training, enc_padding_mask) \n",
        "\n",
        "    dec_output, attention_weights = self.decoder(\n",
        "        tar, enc_output, training, look_ahead_mask, dec_padding_mask)\n",
        "\n",
        "    final_output = self.final_layer(dec_output) \n",
        "\n",
        "    return final_output, attention_weights\n",
        "  \n",
        "  def create_all_masks(self, inp, tar):\n",
        "    enc_padding_mask = create_padding_mask(inp)\n",
        "  \n",
        "    dec_padding_mask = create_padding_mask(inp)\n",
        "\n",
        "    look_ahead_mask = create_look_ahead_mask(tf.shape(tar)[1])\n",
        "    dec_tar_padding_mask = create_padding_mask(tar)\n",
        "    combined = tf.maximum(dec_tar_padding_mask, look_ahead_mask)\n",
        "\n",
        "    return enc_padding_mask, combined, dec_padding_mask"
      ]
    },
    {
      "cell_type": "code",
      "execution_count": null,
      "metadata": {
        "id": "iylNGl8FwgXr"
      },
      "outputs": [],
      "source": [
        "class TransformerLearningRate(tf.keras.optimizers.schedules.LearningRateSchedule):\n",
        "\n",
        "  def __init__(self, d_model, warmup_steps = 4000):\n",
        "    super(TransformerLearningRate, self).__init__()\n",
        "    self.d_model = tf.cast(d_model, tf.float32)\n",
        "    self.warmup_steps = warmup_steps\n",
        "  \n",
        "  def __call__(self, step):\n",
        "    arg1 = tf.math.rsqrt(step)\n",
        "    arg2 = step * (self.warmup_steps ** -1.5)\n",
        "\n",
        "    return tf.math.rsqrt(self.d_model) * tf.math.minimum(arg1, arg2)\n"
      ]
    },
    {
      "cell_type": "markdown",
      "metadata": {
        "id": "CrON8teje1NS"
      },
      "source": [
        "# Training and evaluating"
      ]
    },
    {
      "cell_type": "markdown",
      "metadata": {
        "id": "uWCXUbUf77rS"
      },
      "source": [
        "- function to create all masks needed for the Transformer at once"
      ]
    },
    {
      "cell_type": "code",
      "execution_count": null,
      "metadata": {
        "id": "fFrlpsZO764a"
      },
      "outputs": [],
      "source": [
        "loss = tf.keras.losses.SparseCategoricalCrossentropy(from_logits=True, reduction = 'none')\n",
        "train_loss = tf.keras.metrics.Mean(name='train_loss')\n",
        "train_accuracy = tf.keras.metrics.Mean(name='train_accuracy')\n",
        "\n",
        "val_loss = tf.keras.metrics.Mean(name='val_loss')\n",
        "val_accuracy = tf.keras.metrics.Mean(name='val_accuracy')\n",
        "\n",
        "from tensorflow.keras.losses import categorical_crossentropy\n",
        "\n",
        "def scce_with_ls(y, y_hat):\n",
        "    y = tf.one_hot(tf.cast(y, tf.int32), n_classes)\n",
        "    return categorical_crossentropy(y, y_hat, label_smoothing = 0.1)\n",
        "  \n",
        "def loss_func(real, pred):\n",
        "  mask = tf.math.logical_not(tf.math.equal(real,0))\n",
        "  loss_ = loss(real,pred)\n",
        "  mask = tf.cast(mask, dtype=loss_.dtype)\n",
        "  loss_ *= mask\n",
        "\n",
        "  return tf.reduce_sum(loss_)/ tf.reduce_sum(mask)\n",
        "\n",
        "def acc_func(real,pred):\n",
        "  mask = tf.math.logical_not(tf.math.equal(real,0))\n",
        "  accuracy = tf.equal(real, tf.argmax(pred, axis=2))\n",
        "  accuracy = tf.math.logical_and(mask, accuracy)\n",
        "\n",
        "  accuracy = tf.cast(accuracy, dtype=tf.float32)\n",
        "  mask = tf.cast(mask, dtype=tf.float32)\n",
        "  return tf.reduce_sum(accuracy)/tf.reduce_sum(mask)\n"
      ]
    },
    {
      "cell_type": "markdown",
      "source": [
        "- **Test out the difference between using the regular Transformer and the Weighted Transformer**"
      ],
      "metadata": {
        "id": "H4zyURapnC0X"
      }
    },
    {
      "cell_type": "code",
      "execution_count": null,
      "metadata": {
        "id": "xQRcEAQKTziN"
      },
      "outputs": [],
      "source": [
        "learning_rate = TransformerLearningRate(d_model=d_model, warmup_steps = 4000)\n",
        "optimizer = Adam(learning_rate, beta_1=0.9, beta_2=0.98, epsilon=1e-9)\n",
        "transformer = WeightedTransformer(d_model=d_model,\n",
        "                          dff=dff,\n",
        "                          num_heads=num_heads, \n",
        "                          num_layers=num_layers, \n",
        "                          input_vocab_size=enc_vocab_size,\n",
        "                          target_vocab_size=dec_vocab_size,\n",
        "                          pe_input=max_pos_enc,\n",
        "                          pe_target=max_pos_dec,\n",
        "                          rate=dropout_rate)\n",
        "\n",
        "\n",
        "\n",
        "\n",
        "train_step_signature = [\n",
        "    tf.TensorSpec(shape=(None, None), dtype=tf.int64),\n",
        "    tf.TensorSpec(shape=(None, None), dtype=tf.int64),\n",
        "]\n",
        "\n",
        "\n",
        "@tf.function(input_signature=train_step_signature)\n",
        "def train_step(inp, tar):\n",
        "  tar_inp = tar[:, :-1]\n",
        "  tar_real = tar[:, 1:]\n",
        "\n",
        "  with tf.GradientTape() as tape:\n",
        "    predictions, _ = transformer([inp, tar_inp],\n",
        "                                 True)\n",
        "\n",
        "    loss = loss_func(tar_real, predictions)\n",
        "\n",
        "  gradients = tape.gradient(loss, transformer.trainable_variables)\n",
        "  optimizer.apply_gradients(zip(gradients, transformer.trainable_variables))\n",
        "\n",
        "  train_loss(loss)\n",
        "  train_accuracy(acc_func(tar_real, predictions))\n",
        "\n",
        "def test_step(inp, tar):\n",
        "  tar_inp = tar[:, :-1]\n",
        "  tar_real = tar[:, 1:]\n",
        "\n",
        "  predictions, _ = transformer([inp, tar_inp],\n",
        "                                 False)\n",
        "\n",
        "  loss = loss_func(tar_real, predictions)\n",
        "\n",
        "\n",
        "  val_loss(loss)\n",
        "  val_accuracy(acc_func(tar_real, predictions))\n"
      ]
    },
    {
      "cell_type": "code",
      "execution_count": null,
      "metadata": {
        "colab": {
          "background_save": true
        },
        "id": "s-vXQoYAXkjo"
      },
      "outputs": [],
      "source": [
        "for i in range(EPOCHS):\n",
        "  start = time.time()\n",
        "\n",
        "  train_loss.reset_states()\n",
        "  train_accuracy.reset_states()\n",
        "\n",
        "  val_loss.reset_states()\n",
        "  val_accuracy.reset_states()\n",
        "\n",
        "  for (batch,(x,y)) in enumerate(training_dataset):\n",
        "    train_step(x,y)\n",
        "    if batch % 100 == 0:\n",
        "      print(f'Epoch {i+1}, Batch {batch}: loss: {train_loss.result()}, accuracy: {train_accuracy.result()}')\n",
        "\n",
        "  \n",
        "  for (batch, (x,y)) in enumerate(val_dataset):\n",
        "    test_step(x,y)\n",
        "    \n",
        "    \n",
        "  print(f'Epoch {i+1}, train loss:{train_loss.result()}, accuracy: {train_accuracy.result()}, val loss:{val_loss.result()}, val accuracy:{val_accuracy.result()}, time: {(time.time() - start)/60}')"
      ]
    },
    {
      "cell_type": "markdown",
      "metadata": {
        "id": "G1tw5oOnj5st"
      },
      "source": [
        "\n",
        "\n",
        "*   Save model to be used later\n"
      ]
    },
    {
      "cell_type": "code",
      "execution_count": null,
      "metadata": {
        "colab": {
          "background_save": true
        },
        "id": "ryiWjAe9yyd3"
      },
      "outputs": [],
      "source": [
        "transformer.save(\"/content/drive/MyDrive/ch_to_en_transformer\")"
      ]
    },
    {
      "cell_type": "code",
      "execution_count": null,
      "metadata": {
        "colab": {
          "background_save": true
        },
        "id": "IFuBYIODhwkU"
      },
      "outputs": [],
      "source": [
        "transformer = keras.models.load_model(\"/content/drive/MyDrive/ch_to_en_transformer\")"
      ]
    },
    {
      "cell_type": "markdown",
      "metadata": {
        "id": "bznEAUbyj-cA"
      },
      "source": [
        "\n",
        "\n",
        "*   Confirming that the trained model was actually loaded back\n",
        "\n"
      ]
    },
    {
      "cell_type": "code",
      "execution_count": null,
      "metadata": {
        "id": "bOHkW1RXkBWc"
      },
      "outputs": [],
      "source": [
        "start = time.time()\n",
        "\n",
        "#acting as test loss and test accuracy here\n",
        "val_loss.reset_states()\n",
        "val_accuracy.reset_states()\n",
        "\n",
        "for (batch, (x,y)) in enumerate(test_dataset):\n",
        "  test_step(x,y)\n",
        "    \n",
        "print(f'test loss:{val_loss.result()}, test accuracy:{val_accuracy.result()}, time: {(time.time() - start)/60}')"
      ]
    },
    {
      "cell_type": "markdown",
      "metadata": {
        "id": "OEuNkJZJkDfp"
      },
      "source": [
        "\n",
        "\n",
        "*   **Use this class to run inference**\n",
        "\n"
      ]
    },
    {
      "cell_type": "code",
      "execution_count": null,
      "metadata": {
        "id": "wx9p34zKTSB2"
      },
      "outputs": [],
      "source": [
        "class Translator(tf.Module):\n",
        "  def __init__(self, tokenizer_inp, tokenizer_out, model):\n",
        "    self.tokenizer_inp = tokenizer_inp\n",
        "    self.tokenizer_out = tokenizer_out\n",
        "    self.transformer = model\n",
        "\n",
        "  def __call__(self, sentence, max_length=50):\n",
        "\n",
        "    enc_inp = tf.cast(tf.keras.preprocessing.sequence.pad_sequences(self.tokenizer_in.texts_to_sequences([ch_preprocess_sentence(sentence)]), maxlen=max_length, padding='post'), dtype=tf.int64)\n",
        "\n",
        "    start, end = self.tokenizer_inp.texts_to_sequences([en_preprocess_sentence('')])[0]\n",
        "\n",
        "    attention_weights = 0\n",
        " \n",
        "\n",
        "    output_array = [start]\n",
        "\n",
        "    for i in range(max_length):\n",
        "      output = tf.cast(tf.keras.preprocessing.sequence.pad_sequences(tf.expand_dims(output_array, 0), maxlen = max_length, padding='post'), dtype=tf.int64)\n",
        "      predictions, attention_weights = self.transformer([enc_inp, output], training=False)\n",
        "\n",
        "      # select the last token from the seq_len dimension\n",
        "      predictions = predictions[:, -1:, :]  # (batch_size, 1, vocab_size)\n",
        "\n",
        "      predicted_id = tf.argmax(predictions, axis=-1)\n",
        "\n",
        "      # concatentate the predicted_id to the output which is given to the decoder\n",
        "      # as its input.\n",
        "      \n",
        "      output_array.append(tf.squeeze(predicted_id).numpy())\n",
        "      \n",
        "\n",
        "      if predicted_id == end or predicted_id == start:\n",
        "        break\n",
        "\n",
        "    # output.shape (1, tokens)\n",
        "    text = self.tokenizer_out.sequences_to_texts([output_array]) # shape: ()\n",
        "\n",
        "    return text, output_array, attention_weights\n",
        "\n",
        "\n",
        "\n",
        "    \n",
        "\n"
      ]
    }
  ],
  "metadata": {
    "accelerator": "GPU",
    "colab": {
      "collapsed_sections": [],
      "machine_shape": "hm",
      "name": "Chinese -English Machine Translation.ipynb",
      "provenance": []
    },
    "kernelspec": {
      "display_name": "Python 3",
      "name": "python3"
    },
    "language_info": {
      "name": "python"
    }
  },
  "nbformat": 4,
  "nbformat_minor": 0
}